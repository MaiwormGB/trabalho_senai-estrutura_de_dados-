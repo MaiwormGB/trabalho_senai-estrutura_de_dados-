{
  "nbformat": 4,
  "nbformat_minor": 0,
  "metadata": {
    "colab": {
      "provenance": []
    },
    "kernelspec": {
      "name": "python3",
      "display_name": "Python 3"
    },
    "language_info": {
      "name": "python"
    }
  },
  "cells": [
    {
      "cell_type": "code",
      "source": [
        "metodos = (\"cartão de crédito\", \"cartão de débito\", \"dinheiro vivo\", \"PIX\")\n",
        "pagamentos = []\n",
        "\n",
        "\n",
        "print(\"Métodos de pagamento:\")\n",
        "for i, m in enumerate(metodos, 1):\n",
        "    print(f\"{i} - {m}\")\n",
        "\n",
        "escolha = int(input(\"Escolha o número do método: \"))\n",
        "metodo = metodos[escolha - 1]\n",
        "\n",
        "valor = float(input(\"Valor do pagamento: R$\"))\n",
        "promocao_possivel = input(f\"Seu pagamento tem alguma promoção? \\n(S ou N): \")\n",
        "promocao_possivel = promocao_possivel.upper()\n",
        "\n",
        "if promocao_possivel == \"S\":\n",
        "  porcentagem_promocao = float(input(\"Quanto é? (exemplo: '10' vai ser igual a 10%):\\n\"))\n",
        "  desconto = valor * (porcentagem_promocao / 100)\n",
        "  valor_com_desconto = valor - desconto\n",
        "else:\n",
        "  desconto = 0\n",
        "  valor_com_desconto = valor\n",
        "\n",
        "pagamentos.append({\"cliente\": cliente, \"metodo\": metodo, \"valor\": valor})\n",
        "\n",
        "print(\"\\nPagamentos registrados:\")\n",
        "for p in pagamentos:\n",
        "    print(f\"Você pagou R$\", valor_com_desconto, f\"via {p['metodo']}\")"
      ],
      "metadata": {
        "colab": {
          "base_uri": "https://localhost:8080/"
        },
        "id": "5bM5CLBvzDFf",
        "outputId": "ede87274-eb22-4f80-8875-b1762238ba7e"
      },
      "execution_count": 25,
      "outputs": [
        {
          "output_type": "stream",
          "name": "stdout",
          "text": [
            "Métodos de pagamento:\n",
            "1 - cartão de crédito\n",
            "2 - cartão de débito\n",
            "3 - dinheiro vivo\n",
            "4 - PIX\n",
            "Escolha o número do método: 2\n",
            "Valor do pagamento: R$500\n",
            "Seu pagamento tem alguma promoção? \n",
            "(S ou N): s\n",
            "Quanto é? (exemplo: '10' vai ser igual a 10%):\n",
            "10\n",
            "\n",
            "Pagamentos registrados:\n",
            "Você pagou R$ 450.0 via cartão de débito\n"
          ]
        }
      ]
    }
  ]
}