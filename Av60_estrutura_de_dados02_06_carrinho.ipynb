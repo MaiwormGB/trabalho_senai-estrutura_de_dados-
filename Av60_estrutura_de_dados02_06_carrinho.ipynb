{
  "nbformat": 4,
  "nbformat_minor": 0,
  "metadata": {
    "colab": {
      "provenance": []
    },
    "kernelspec": {
      "name": "python3",
      "display_name": "Python 3"
    },
    "language_info": {
      "name": "python"
    }
  },
  "cells": [
    {
      "cell_type": "code",
      "execution_count": null,
      "metadata": {
        "id": "6HDCUB12B2xI"
      },
      "outputs": [],
      "source": [
        "limpeza = {'shampoo': 10.00,\n",
        "           'condicionador': 12.00,\n",
        "           'sabonete': 7.00,\n",
        "           'perfume': 15.00,\n",
        "           'secador': 70.00,\n",
        "           'escova': 20.00}\n",
        "brinquedos = {'bolinha': 10.00,\n",
        "              'osso': 12.00,\n",
        "              'galinha': 6.00,\n",
        "              'corda':8.00}\n",
        "racaos = {'premier': 50.00,\n",
        "          'golden':55.00,\n",
        "          'granplus':40.00}\n",
        "remedios = {'tosse':35.00,\n",
        "            'gripe':30.00,\n",
        "            'febre':45.00,\n",
        "            'barriga':40.00}\n",
        "casinhas = {'caminha':80.00,\n",
        "            'pequena':70.00,'média':90.00,\n",
        "            'grande':110.00}\n",
        "print(limpeza)\n",
        "print(brinquedos)\n",
        "print(racaos)\n",
        "print(remedios)\n",
        "print(casinhas)\n",
        "\n",
        "produtos_disponiveis = limpeza | remedios | racaos | casinhas | brinquedos\n",
        "\n",
        "carrinho = {}\n",
        "\n",
        "print(\"Produtos disponíveis:\")\n",
        "for produto, preco in produtos_disponiveis.items():\n",
        "    print(f\"- {produto}: R$ {preco:.2f}\")\n",
        "\n",
        "while True:\n",
        "    escolha = input(\"\\nDigite o nome do produto para adicionar ao carrinho (ou 'sair' para finalizar): \").strip().lower()\n",
        "    if escolha == \"sair\":\n",
        "        break\n",
        "    if escolha in produtos_disponiveis:\n",
        "        if escolha in carrinho:\n",
        "            carrinho[escolha] += 1  # adiciona mais uma unidade\n",
        "        else:\n",
        "            carrinho[escolha] = 1\n",
        "        print(f\"{escolha.capitalize()} adicionada ao carrinho. Quantidade: {carrinho[escolha]}\")\n",
        "    else:\n",
        "        print(\"Produto não encontrado. Tente novamente.\")\n",
        "\n",
        "if not carrinho:\n",
        "    print(\"\\nCarrinho vazio.\")\n",
        "else:\n",
        "    print(\"\\nResumo da compra:\")\n",
        "    total = 0\n",
        "    for produto, quantidade in carrinho.items():\n",
        "        preco = produtos_disponiveis[produto]\n",
        "        subtotal = preco * quantidade\n",
        "        print(f\"- {produto.capitalize()} x{quantidade}: R$ {subtotal:.2f}\")\n",
        "        total += subtotal\n",
        "    print(f\"Total: R$ {total:.2f}\")"
      ]
    }
  ]
}