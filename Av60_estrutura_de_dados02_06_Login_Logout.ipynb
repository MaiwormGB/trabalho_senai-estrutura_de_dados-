{
  "nbformat": 4,
  "nbformat_minor": 0,
  "metadata": {
    "colab": {
      "provenance": []
    },
    "kernelspec": {
      "name": "python3",
      "display_name": "Python 3"
    },
    "language_info": {
      "name": "python"
    }
  },
  "cells": [
    {
      "cell_type": "code",
      "execution_count": 10,
      "metadata": {
        "colab": {
          "base_uri": "https://localhost:8080/"
        },
        "id": "C2vrCcb0nQ09",
        "outputId": "e58d4e08-54b6-4194-c1ed-3b84ebf8847b"
      },
      "outputs": [
        {
          "output_type": "stream",
          "name": "stdout",
          "text": [
            "__________________________________________________\n",
            "\n",
            "Bem vindo(a) a loja virtual Mystic™ ヾ(•ω•`)o\n",
            "A melhor opção para seu amigo de quatro patas!\n",
            "__________________________________________________\n",
            "\n",
            "Ja possui login?\n",
            "(Y/N)\n",
            "n\n",
            "Faça seu cadastro para continuar!!!\n"
          ]
        }
      ],
      "source": [
        "#Estrutura de dadoa - Login/Logout\n",
        "\n",
        "cadastros = [\n",
        "\n",
        "     [\"nome\", \"senha\", \"email\"],\n",
        "     [\"nome\", \"senha\", \"email\"],\n",
        "     [\"nome\", \"senha\", \"email\"],\n",
        "     [\"nome\", \"senha\", \"email\"],\n",
        "     [\"nome\", \"senha\", \"email\"],\n",
        "     [\"nome\", \"senha\", \"email\"],\n",
        "     [\"nome\", \"senha\", \"email\"],\n",
        "     [\"nome\", \"senha\", \"email\"],\n",
        "     [\"nome\", \"senha\", \"email\"],\n",
        "     [\"nome\", \"senha\", \"email\"],\n",
        "     [\"nome\", \"senha\", \"email\"]\n",
        "\n",
        "]\n",
        "\n",
        "login = \"\"\n",
        "senha = \"\"\n",
        "\n",
        "print(\"_\" *50)\n",
        "print(\"\\nBem vindo(a) a loja virtual Mystic™ ヾ(•ω•`)o\\nA melhor opção para seu amigo de quatro patas!\")\n",
        "print(\"_\" *50)\n",
        "print(\"\\nJa possui login?\\n(Y/N)\")\n",
        "escolha = input(\"\")\n",
        "escolha = escolha.upper()\n",
        "if escolha == 'N':\n",
        "  print(\"_\" *50)\n",
        "  print(\"Faça seu cadastro para continuar!!!\")\n",
        "\n",
        "\n",
        "\n",
        "\n",
        "\n",
        "\n",
        "\n"
      ]
    }
  ]
}